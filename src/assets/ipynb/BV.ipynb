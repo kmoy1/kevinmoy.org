{
 "cells": [
  {
   "cell_type": "markdown",
   "id": "00b37a6b",
   "metadata": {},
   "source": [
    "# Model Bias and Variance, a Tangible Approach\n",
    "\n",
    "\n",
    "Two fundamental concepts in machine learning are that of **bias** and **variance**. While these concepts are widely-known, it's uncommon we are given anything more than an abstract formulaic representation of what bias and variance are, leading to much confusion. I will attempt to remedy this issue with this article.\n",
    "\n",
    "## Basics\n",
    "\n",
    "First, though, we must cover basics and set the stage. When we try to create predictive models, we are almost always trying to imitate some *unknown* relationship between *observations* $x$ and *parameters* (values we want to predict given the observations) $y$ by a \"perfect equation\" $y = f(x)$ as closely as possible. To take a simple example, let's say I want to predict the weight of an elephant $(y)$ given its height $(x)$. In a perfect world, we'd know what this equation is exactly. But it's not a perfect world.\n",
    "\n",
    "Note that while the weight of an elephant is a constant (in the context of prediction, not in real life), the observations of height are certainly not. For example, let's say an elephant weighs $y = 10,000$ lb. Obviously, given this information the elephant's exact height isn't one-to-one. Instead, our heights follows a *distribution* $P(x | y)$- given an elephant weighs 10K pounds, it is much more likely to be around 8-10 ft tall as opposed to 2 feet tall. Unfortunately, this distribution is unknown.\n",
    "\n",
    "So instead we we train an model $\\hat{f}$. The best model will, given observed data $x$, produce an *estimate* $\\hat{f}(x)$ that is as close to the true value $y = f(x)$ as possible. Remember that this true value $y$ is unknown, as is the relationship $f$."
   ]
  },
  {
   "cell_type": "markdown",
   "id": "8f6bc8a1",
   "metadata": {},
   "source": [
    "## Model Bias\n",
    "\n",
    "Now that we have our model,  we can say that the bias of $\\hat{f}$ is the difference between the *average prediction* of $\\hat{f}$ and the truth $y$. This difference, or *error*, is caused by assumptions in the learning mechanism itself- for example, if we use a linear regressor to predict data that follows a quadratic relationship, that will introduce a good amount of bias error. \n",
    "\n",
    "We say \"average prediction\" in the context of a single given input $x$, which simplifies our math a lot. Specifically, we want to calculate the below value, for a given input $x$ and *unknown* truth $f(x)$:\n",
    "\n",
    "$$\n",
    "E[\\hat{f}(x)] - f(x)\n",
    "$$\n",
    "\n",
    "This will give us an indication of how \"correct\" our model is in matching the true relationship $f(x)$. Happily, there exists a way to estimate this bias.\n",
    "\n",
    "Remember, \"average prediction\" is just in the context of *one* input-output pair $(x_0, y_0)$. Now, we're just looking at the average prediction of a single input observation- $\\hat{f}(x_0)$. So now we can *simulate* the average prediction instead, by, well, averaging a bunch of predictions:\n",
    "\n",
    "1. Sampling a bunch of training sets $D_1, D_2,...,D_N$\n",
    "\n",
    "2. Training a model for each: $\\hat{f}_1, \\hat{f}_2,...,\\hat{f}_N$\n",
    "\n",
    "3. Averaging model predictions on $x_0$: $\\frac{\\sum_i \\hat{f}_i(x_0)}{N}$. This gives us our average prediction $E[\\hat{f}(x_0)]$.\n",
    "\n",
    "Then we can finally get a numerical estimate of our bias $E[\\hat{f}(x_0)] - y_0$. If we want, we can calculate this for all input-output pairs and average that to get an overall bias."
   ]
  },
  {
   "cell_type": "markdown",
   "id": "1a19059c",
   "metadata": {},
   "source": [
    "## Model Variance\n",
    "\n",
    "The variance of our model $\\hat{f}$ is independent of the truth label $y_0$ and more dependent on the intricacies and complexity of the model $\\hat{f}$ itself. We know that variance of $\\hat{f}$ is expected value of the **squared sampling deviations** of $\\hat{f}$, where a sampling deviation is just the difference between a prediction and the average prediction (expected value):\n",
    "\n",
    "$$\n",
    "\\hat{f}(x) - E[\\hat{f}(x)]\n",
    "$$\n",
    "\n",
    "So variance is just equal to taking all these sampling deviations and averaging them.\n",
    "\n",
    "Again in the context of a single input-output pair $(x_0, y_0)$, calculating the variance of $\\hat{f}$ (at least on $x_0$) is very similar to bias: \n",
    "\n",
    "1. Sampling a bunch of training sets $D_1, D_2,...,D_N$\n",
    "\n",
    "2. Training a model for each: $\\hat{f}_1, \\hat{f}_2,...,\\hat{f}_N$\n",
    "\n",
    "3. Calculate average prediction $E[\\hat{f}(x_0)]$ by averaging model predictions on $x_0$\n",
    "\n",
    "4. Calculate sampling deviations $\\hat{f}_i(x) - E[\\hat{f}(x)]$ for each trained model $i$.\n",
    "\n",
    "5. Square these deviations, then average them to get our variance.\n",
    "\n",
    "Again, we can average these single-training-pair variance calculations over all inputs and outputs to get a general idea of our variance!"
   ]
  },
  {
   "cell_type": "markdown",
   "id": "ac7200cf",
   "metadata": {},
   "source": [
    "Let's now actually apply this in code. Let's say we're trying to model truth \n",
    "\n",
    "$$\n",
    "y = x^3\n",
    "$$\n",
    "\n",
    "and we collect some (noisy) data:"
   ]
  },
  {
   "cell_type": "code",
   "execution_count": 36,
   "id": "a7336abe",
   "metadata": {},
   "outputs": [],
   "source": [
    "def f(x):\n",
    "    return x ** 3"
   ]
  },
  {
   "cell_type": "markdown",
   "id": "27ff8465",
   "metadata": {},
   "source": [
    "Remember that we although the true relationship is encoded by $f$, this will almost never be exact. There's always noise. So while in a perfect world we would have $y = f(x)$, we really have\n",
    "\n",
    "$$\n",
    "y = f(x) + \\epsilon\n",
    "$$\n",
    "\n",
    "where $\\epsilon$ is the noise that can come from measurement error, randomness in nature, or any other source that distorts the true value."
   ]
  },
  {
   "cell_type": "markdown",
   "id": "9e9deac5",
   "metadata": {},
   "source": [
    "Let's now say our inputs are all uniform over $[0,1]$.  "
   ]
  },
  {
   "cell_type": "code",
   "execution_count": 234,
   "id": "6428a748",
   "metadata": {},
   "outputs": [],
   "source": [
    "def generate_sample_data(f, num_rows=100, lower=0, upper=1, noise_sd=0.25):\n",
    "    \"\"\"Generate a training set with NUM_ROWS rows containing \n",
    "    input values between [LOWER, UPPER], mapped to outputs given by f(x) + noise.\"\"\"\n",
    "    x = np.random.uniform(lower, upper, num_rows)\n",
    "    noise = np.random.normal(loc=0, scale=noise_sd, size=num_rows)\n",
    "    return np.vstack((x, f(x)+noise)).T"
   ]
  },
  {
   "cell_type": "code",
   "execution_count": 235,
   "id": "0e9f6341",
   "metadata": {},
   "outputs": [],
   "source": [
    "train_df = generate_sample_data(f)"
   ]
  },
  {
   "cell_type": "code",
   "execution_count": 236,
   "id": "42d8f144",
   "metadata": {},
   "outputs": [
    {
     "data": {
      "text/plain": [
       "<matplotlib.collections.PathCollection at 0x13cc269d0>"
      ]
     },
     "execution_count": 236,
     "metadata": {},
     "output_type": "execute_result"
    },
    {
     "data": {
      "image/png": "[encoded data removed]",
      "text/plain": [
       "<Figure size 432x288 with 1 Axes>"
      ]
     },
     "metadata": {
      "needs_background": "light"
     },
     "output_type": "display_data"
    }
   ],
   "source": [
    "import matplotlib.pyplot as plt\n",
    "plt.scatter(train_df[:, 0], train_df[:, 1])"
   ]
  },
  {
   "cell_type": "markdown",
   "id": "539f2dea",
   "metadata": {},
   "source": [
    "To demonstrate an example, let's now fit an example model to this dataset and see how we can estimate their bias and variance."
   ]
  },
  {
   "cell_type": "markdown",
   "id": "6d6de8b4",
   "metadata": {},
   "source": [
    "## Polynomial Model (Linear Regression)\n",
    "\n",
    "Note that what we're really doing is adding columns for a bias constant, $x^2$, and $x^3$, then applying linear regression, but I'm going to use the wonderful `np.polyfit` library instead. Note that conceptually, the model we're looking at here is a degree-3 polynomial model."
   ]
  },
  {
   "cell_type": "code",
   "execution_count": 237,
   "id": "e50c2472",
   "metadata": {},
   "outputs": [],
   "source": [
    "X = train_df[:, 0]\n",
    "y = train_df[:, 1]\n",
    "f_hat = np.poly1d(np.polyfit(X, y, 3))"
   ]
  },
  {
   "cell_type": "code",
   "execution_count": 238,
   "id": "889e9e9f",
   "metadata": {},
   "outputs": [
    {
     "name": "stdout",
     "output_type": "stream",
     "text": [
      "       3          2\n",
      "1.578 x - 0.9744 x + 0.4041 x + 0.02554\n"
     ]
    }
   ],
   "source": [
    "print(np.poly1d(f_hat))"
   ]
  },
  {
   "cell_type": "code",
   "execution_count": 239,
   "id": "6b92c00c",
   "metadata": {
    "scrolled": true
   },
   "outputs": [
    {
     "data": {
      "text/plain": [
       "[<matplotlib.lines.Line2D at 0x13cca1a60>]"
      ]
     },
     "execution_count": 239,
     "metadata": {},
     "output_type": "execute_result"
    },
    {
     "data": {
      "image/png": "[encoded data removed]",
      "text/plain": [
       "<Figure size 432x288 with 1 Axes>"
      ]
     },
     "metadata": {
      "needs_background": "light"
     },
     "output_type": "display_data"
    }
   ],
   "source": [
    "plt.scatter(train_df[:, 0], train_df[:, 1])\n",
    "plt.plot(np.arange(0,1,0.05), f_hat(np.arange(0,1,0.05)), color='red', linewidth=5)"
   ]
  },
  {
   "cell_type": "markdown",
   "id": "085549e9",
   "metadata": {},
   "source": [
    "Not too bad, I must say.\n",
    "\n",
    "But this is on the training set. The true quality of predictors is shown when applied on *unseen data*- test set data. Let's generate a random **noiseless** point from our model. This will be our test point $(x_0, y_0)$."
   ]
  },
  {
   "cell_type": "code",
   "execution_count": 240,
   "id": "180e7d50",
   "metadata": {
    "scrolled": true
   },
   "outputs": [
    {
     "data": {
      "text/plain": [
       "array([0.85923005, 0.63434917])"
      ]
     },
     "execution_count": 240,
     "metadata": {},
     "output_type": "execute_result"
    }
   ],
   "source": [
    "test_pt = generate_sample_data(f, num_rows=1, noise_sd=0)[0]\n",
    "test_pt"
   ]
  },
  {
   "cell_type": "markdown",
   "id": "c041c0cd",
   "metadata": {},
   "source": [
    "When we try to use our degree-3 polynomial to predict this test pt, what do we get?"
   ]
  },
  {
   "cell_type": "code",
   "execution_count": 241,
   "id": "a5128c60",
   "metadata": {},
   "outputs": [
    {
     "data": {
      "text/plain": [
       "0.6544474269993503"
      ]
     },
     "execution_count": 241,
     "metadata": {},
     "output_type": "execute_result"
    }
   ],
   "source": [
    "f_hat(test_pt[0])"
   ]
  },
  {
   "cell_type": "markdown",
   "id": "ed51dbf7",
   "metadata": {},
   "source": [
    "Not bad at all. But this could just be because we had a good training set. As stated in our bias estimation procedure, let's train multiple models, calculate the average prediction on $x_0$, then subtract from $y_0$. This will give us a good idea of the bias of the degree-3 polynomial.\n",
    "\n",
    "To prevent exorbitant computation time, we'll only run 100 simulations, and use size-100 training sets per simulation."
   ]
  },
  {
   "cell_type": "code",
   "execution_count": 242,
   "id": "a0df2312",
   "metadata": {},
   "outputs": [],
   "source": [
    "def generate_predictions(f, test_x, n_sims=100):\n",
    "    \"\"\"Return size N-SIMS list of predictions of f_hat(test_x),\n",
    "    each trained on N_SIMS different training sets.\"\"\"\n",
    "    estimates = []\n",
    "    for _ in range(n_sims):\n",
    "        data = generate_sample_data(f)\n",
    "        X, y = data[:, 0], data[:, 1]\n",
    "        f_hat = np.poly1d(np.polyfit(X, y, 3))\n",
    "        pred = f_hat(test_x)\n",
    "        estimates.append(pred)\n",
    "    return estimates"
   ]
  },
  {
   "cell_type": "code",
   "execution_count": 243,
   "id": "4ffea9ae",
   "metadata": {},
   "outputs": [],
   "source": [
    "def calculate_bias(f_hat, test_pt):\n",
    "    \"\"\"Estimate bias for model f_hat on test point TEST_PT.\"\"\"\n",
    "    preds = generate_predictions(f_hat, test_pt[0])\n",
    "    avg_prediction = sum(preds) / len(preds)\n",
    "    bias = avg_prediction - test_pt[1]\n",
    "    return bias"
   ]
  },
  {
   "cell_type": "code",
   "execution_count": 244,
   "id": "e1ce065a",
   "metadata": {},
   "outputs": [
    {
     "name": "stdout",
     "output_type": "stream",
     "text": [
      "For a degree 3 polynomial model, our bias estimate is: 0.016457330735634268\n"
     ]
    }
   ],
   "source": [
    "print(\"For a degree 3 polynomial model, our bias estimate is: {}\".format(calculate_bias(f_hat, test_pt)))"
   ]
  },
  {
   "cell_type": "markdown",
   "id": "3e3c7fde",
   "metadata": {},
   "source": [
    "Let's quickly estimate variance as well."
   ]
  },
  {
   "cell_type": "code",
   "execution_count": 245,
   "id": "32cd86d8",
   "metadata": {},
   "outputs": [],
   "source": [
    "def calculate_variance(f_hat, test_pt):\n",
    "    \"\"\"Estimate variance for model f_hat on test point TEST_PT.\"\"\"\n",
    "    preds = generate_predictions(f_hat, test_pt[0])\n",
    "    avg_prediction = sum(preds) / len(preds)\n",
    "    squared_sampling_devs = np.square(np.array(preds) - avg_prediction)\n",
    "    variance = sum(squared_sampling_devs) / len(squared_sampling_devs)\n",
    "    return variance"
   ]
  },
  {
   "cell_type": "code",
   "execution_count": 246,
   "id": "7911a835",
   "metadata": {},
   "outputs": [
    {
     "name": "stdout",
     "output_type": "stream",
     "text": [
      "For a degree 3 polynomial model, our variance estimate is: 0.0016879565315766263\n"
     ]
    }
   ],
   "source": [
    "print(\"For a degree 3 polynomial model, our variance estimate is: {}\".format(calculate_variance(f_hat, test_pt)))"
   ]
  },
  {
   "cell_type": "markdown",
   "id": "5e4563a5",
   "metadata": {},
   "source": [
    "# Conclusion\n",
    "\n",
    "When focused on a single test point, we can, in fact, estimate the bias and variance of a predictive model. You can use such numerical estimates to compare between different predictors for your ML problem."
   ]
  }
 ],
 "metadata": {
  "kernelspec": {
   "display_name": "Python 3 (ipykernel)",
   "language": "python",
   "name": "python3"
  },
  "language_info": {
   "codemirror_mode": {
    "name": "ipython",
    "version": 3
   },
   "file_extension": ".py",
   "mimetype": "text/x-python",
   "name": "python",
   "nbconvert_exporter": "python",
   "pygments_lexer": "ipython3",
   "version": "3.9.12"
  }
 },
 "nbformat": 4,
 "nbformat_minor": 5
}
